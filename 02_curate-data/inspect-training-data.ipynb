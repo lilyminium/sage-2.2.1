{
 "cells": [
  {
   "cell_type": "code",
   "execution_count": 16,
   "id": "331e927c-a292-48ac-bb77-4e84cf34da16",
   "metadata": {},
   "outputs": [],
   "source": [
    "import pyarrow.dataset as ds\n",
    "import pyarrow.compute as pc\n",
    "from openff.toolkit import Molecule\n",
    "\n",
    "from rdkit import Chem\n",
    "from rdkit.Chem.Draw import IPythonConsole\n",
    "from rdkit.Chem import Draw\n",
    "IPythonConsole.ipython_useSVG=True"
   ]
  },
  {
   "cell_type": "code",
   "execution_count": 39,
   "id": "63d1ec0c-8ac7-4ae1-ae30-090627f58acf",
   "metadata": {},
   "outputs": [],
   "source": [
    "def draw_df(df):\n",
    "    rdmols = [\n",
    "        Molecule.from_mapped_smiles(smi, allow_undefined_stereo=True).to_rdkit()\n",
    "        for smi in df.mapped_smiles.unique()\n",
    "    ]\n",
    "    return Draw.MolsToGridImage(\n",
    "        rdmols,\n",
    "        maxMols=len(rdmols),\n",
    "        molsPerRow=5,\n",
    "        subImgSize=(200, 150)\n",
    "    )"
   ]
  },
  {
   "cell_type": "code",
   "execution_count": 7,
   "id": "003099ee-b889-4837-916a-9c5fb1fb2650",
   "metadata": {},
   "outputs": [
    {
     "data": {
      "text/plain": [
       "1398647"
      ]
     },
     "execution_count": 7,
     "metadata": {},
     "output_type": "execute_result"
    }
   ],
   "source": [
    "dataset = ds.dataset(\"analysis\")\n",
    "dataset.count_rows()"
   ]
  },
  {
   "cell_type": "code",
   "execution_count": 3,
   "id": "3b9e950b-6351-46b3-8c97-db0e63b2a8fd",
   "metadata": {},
   "outputs": [
    {
     "data": {
      "text/plain": [
       "mapped_smiles: string\n",
       "inchi: string\n",
       "record_id: string\n",
       "type: string\n",
       "parameter_id: string\n",
       "parameter_type: string"
      ]
     },
     "execution_count": 3,
     "metadata": {},
     "output_type": "execute_result"
    }
   ],
   "source": [
    "dataset.schema"
   ]
  },
  {
   "cell_type": "code",
   "execution_count": 58,
   "id": "28bef9d0-04fd-4b9d-921b-2dd306fd4ad1",
   "metadata": {},
   "outputs": [
    {
     "data": {
      "text/plain": [
       "8"
      ]
     },
     "execution_count": 58,
     "metadata": {},
     "output_type": "execute_result"
    }
   ],
   "source": [
    "expression = pc.field(\"parameter_id\") == \"a17\"\n",
    "subset = dataset.filter(expression)\n",
    "subset.count_rows()"
   ]
  },
  {
   "cell_type": "code",
   "execution_count": 59,
   "id": "21b1afb8-0337-42fe-a5da-088e2e1dacd6",
   "metadata": {},
   "outputs": [
    {
     "data": {
      "text/html": [
       "<div>\n",
       "<style scoped>\n",
       "    .dataframe tbody tr th:only-of-type {\n",
       "        vertical-align: middle;\n",
       "    }\n",
       "\n",
       "    .dataframe tbody tr th {\n",
       "        vertical-align: top;\n",
       "    }\n",
       "\n",
       "    .dataframe thead th {\n",
       "        text-align: right;\n",
       "    }\n",
       "</style>\n",
       "<table border=\"1\" class=\"dataframe\">\n",
       "  <thead>\n",
       "    <tr style=\"text-align: right;\">\n",
       "      <th></th>\n",
       "      <th>mapped_smiles</th>\n",
       "      <th>inchi</th>\n",
       "      <th>record_id</th>\n",
       "      <th>type</th>\n",
       "      <th>parameter_id</th>\n",
       "      <th>parameter_type</th>\n",
       "    </tr>\n",
       "  </thead>\n",
       "  <tbody>\n",
       "    <tr>\n",
       "      <th>0</th>\n",
       "      <td>[H:8][C:1]#[N+:5][C:4]([H:12])([H:13])[C:2](=[...</td>\n",
       "      <td>InChI=1/C4H6NO2/c1-5-3-4(6)7-2/h1H,3H2,2H3/q+1</td>\n",
       "      <td>2703330</td>\n",
       "      <td>torsion</td>\n",
       "      <td>a17</td>\n",
       "      <td>Angles</td>\n",
       "    </tr>\n",
       "    <tr>\n",
       "      <th>1</th>\n",
       "      <td>[H:7][C:3]([H:8])([C:2](=[O:5])[O:6][H:9])[N+:...</td>\n",
       "      <td>InChI=1/C3H3NO2/c1-4-2-3(5)6/h2H2,(H,5,6)/f/h5H</td>\n",
       "      <td>37025430</td>\n",
       "      <td>torsion</td>\n",
       "      <td>a17</td>\n",
       "      <td>Angles</td>\n",
       "    </tr>\n",
       "    <tr>\n",
       "      <th>2</th>\n",
       "      <td>[H:10][C:2](=[S:9](=[C:3]([H:12])[H:13])([C:4]...</td>\n",
       "      <td>InChI=1/C6H9NOS/c1-7-5-6(8)9(2,3)4/h2-3,5H2,4H3</td>\n",
       "      <td>37025489</td>\n",
       "      <td>torsion</td>\n",
       "      <td>a17</td>\n",
       "      <td>Angles</td>\n",
       "    </tr>\n",
       "    <tr>\n",
       "      <th>3</th>\n",
       "      <td>[H:8][C:1]#[N+:5][C:4]([H:12])([H:13])[C:2](=[...</td>\n",
       "      <td>InChI=1/C4H6NO2/c1-5-3-4(6)7-2/h1H,3H2,2H3/q+1</td>\n",
       "      <td>18434079</td>\n",
       "      <td>optimization</td>\n",
       "      <td>a17</td>\n",
       "      <td>Angles</td>\n",
       "    </tr>\n",
       "    <tr>\n",
       "      <th>4</th>\n",
       "      <td>[H:8][C:1]#[N+:5][C:4]([H:12])([H:13])[C:2](=[...</td>\n",
       "      <td>InChI=1/C4H6NO2/c1-5-3-4(6)7-2/h1H,3H2,2H3/q+1</td>\n",
       "      <td>2002991</td>\n",
       "      <td>optimization</td>\n",
       "      <td>a17</td>\n",
       "      <td>Angles</td>\n",
       "    </tr>\n",
       "    <tr>\n",
       "      <th>5</th>\n",
       "      <td>[H:8][C:3]([H:9])([H:10])[O:7][C:2](=[O:6])[C:...</td>\n",
       "      <td>InChI=1/C4H5NO2/c1-5-3-4(6)7-2/h3H2,2H3</td>\n",
       "      <td>2703333</td>\n",
       "      <td>torsion</td>\n",
       "      <td>a17</td>\n",
       "      <td>Angles</td>\n",
       "    </tr>\n",
       "    <tr>\n",
       "      <th>6</th>\n",
       "      <td>[H:8][C:3]([H:9])([H:10])[O:7][C:2](=[O:6])[C:...</td>\n",
       "      <td>InChI=1/C4H5NO2/c1-5-3-4(6)7-2/h3H2,2H3</td>\n",
       "      <td>2002992</td>\n",
       "      <td>optimization</td>\n",
       "      <td>a17</td>\n",
       "      <td>Angles</td>\n",
       "    </tr>\n",
       "    <tr>\n",
       "      <th>7</th>\n",
       "      <td>[H:8][C:3]([H:9])([H:10])[O:7][C:2](=[O:6])[C:...</td>\n",
       "      <td>InChI=1/C4H5NO2/c1-5-3-4(6)7-2/h3H2,2H3</td>\n",
       "      <td>2002993</td>\n",
       "      <td>optimization</td>\n",
       "      <td>a17</td>\n",
       "      <td>Angles</td>\n",
       "    </tr>\n",
       "  </tbody>\n",
       "</table>\n",
       "</div>"
      ],
      "text/plain": [
       "                                       mapped_smiles  \\\n",
       "0  [H:8][C:1]#[N+:5][C:4]([H:12])([H:13])[C:2](=[...   \n",
       "1  [H:7][C:3]([H:8])([C:2](=[O:5])[O:6][H:9])[N+:...   \n",
       "2  [H:10][C:2](=[S:9](=[C:3]([H:12])[H:13])([C:4]...   \n",
       "3  [H:8][C:1]#[N+:5][C:4]([H:12])([H:13])[C:2](=[...   \n",
       "4  [H:8][C:1]#[N+:5][C:4]([H:12])([H:13])[C:2](=[...   \n",
       "5  [H:8][C:3]([H:9])([H:10])[O:7][C:2](=[O:6])[C:...   \n",
       "6  [H:8][C:3]([H:9])([H:10])[O:7][C:2](=[O:6])[C:...   \n",
       "7  [H:8][C:3]([H:9])([H:10])[O:7][C:2](=[O:6])[C:...   \n",
       "\n",
       "                                             inchi record_id          type  \\\n",
       "0   InChI=1/C4H6NO2/c1-5-3-4(6)7-2/h1H,3H2,2H3/q+1   2703330       torsion   \n",
       "1  InChI=1/C3H3NO2/c1-4-2-3(5)6/h2H2,(H,5,6)/f/h5H  37025430       torsion   \n",
       "2  InChI=1/C6H9NOS/c1-7-5-6(8)9(2,3)4/h2-3,5H2,4H3  37025489       torsion   \n",
       "3   InChI=1/C4H6NO2/c1-5-3-4(6)7-2/h1H,3H2,2H3/q+1  18434079  optimization   \n",
       "4   InChI=1/C4H6NO2/c1-5-3-4(6)7-2/h1H,3H2,2H3/q+1   2002991  optimization   \n",
       "5          InChI=1/C4H5NO2/c1-5-3-4(6)7-2/h3H2,2H3   2703333       torsion   \n",
       "6          InChI=1/C4H5NO2/c1-5-3-4(6)7-2/h3H2,2H3   2002992  optimization   \n",
       "7          InChI=1/C4H5NO2/c1-5-3-4(6)7-2/h3H2,2H3   2002993  optimization   \n",
       "\n",
       "  parameter_id parameter_type  \n",
       "0          a17         Angles  \n",
       "1          a17         Angles  \n",
       "2          a17         Angles  \n",
       "3          a17         Angles  \n",
       "4          a17         Angles  \n",
       "5          a17         Angles  \n",
       "6          a17         Angles  \n",
       "7          a17         Angles  "
      ]
     },
     "execution_count": 59,
     "metadata": {},
     "output_type": "execute_result"
    }
   ],
   "source": [
    "df = subset.to_table().to_pandas()\n",
    "df"
   ]
  },
  {
   "cell_type": "code",
   "execution_count": 60,
   "id": "4a7ea2eb-2964-4265-8599-7a784454ae70",
   "metadata": {},
   "outputs": [
    {
     "data": {
      "text/plain": [
       "4"
      ]
     },
     "execution_count": 60,
     "metadata": {},
     "output_type": "execute_result"
    }
   ],
   "source": [
    "len(df.inchi.unique())"
   ]
  },
  {
   "cell_type": "code",
   "execution_count": 61,
   "id": "c2586216-7d97-4d7e-9e95-65be3f8b25ee",
   "metadata": {},
   "outputs": [
    {
     "data": {
      "image/svg+xml": [
       "<svg xmlns=\"http://www.w3.org/2000/svg\" xmlns:rdkit=\"http://www.rdkit.org/xml\" xmlns:xlink=\"http://www.w3.org/1999/xlink\" version=\"1.1\" baseProfile=\"full\" xml:space=\"preserve\" width=\"1000px\" height=\"150px\" viewBox=\"0 0 1000 150\">\n",
       "<!-- END OF HEADER -->\n",
       "<rect style=\"opacity:1.0;fill:#FFFFFF;stroke:none\" width=\"1000.0\" height=\"150.0\" x=\"0.0\" y=\"0.0\"> </rect>\n",
       "<path class=\"bond-0 atom-0 atom-4\" d=\"M 39.1,68.4 L 50.3,70.5\" style=\"fill:none;fill-rule:evenodd;stroke:#000000;stroke-width:2.0px;stroke-linecap:butt;stroke-linejoin:miter;stroke-opacity:1\"/>\n",
       "<path class=\"bond-0 atom-0 atom-4\" d=\"M 50.3,70.5 L 61.5,72.6\" style=\"fill:none;fill-rule:evenodd;stroke:#0000FF;stroke-width:2.0px;stroke-linecap:butt;stroke-linejoin:miter;stroke-opacity:1\"/>\n",
       "<path class=\"bond-0 atom-0 atom-4\" d=\"M 39.8,64.5 L 51.0,66.6\" style=\"fill:none;fill-rule:evenodd;stroke:#000000;stroke-width:2.0px;stroke-linecap:butt;stroke-linejoin:miter;stroke-opacity:1\"/>\n",
       "<path class=\"bond-0 atom-0 atom-4\" d=\"M 51.0,66.6 L 62.2,68.7\" style=\"fill:none;fill-rule:evenodd;stroke:#0000FF;stroke-width:2.0px;stroke-linecap:butt;stroke-linejoin:miter;stroke-opacity:1\"/>\n",
       "<path class=\"bond-0 atom-0 atom-4\" d=\"M 38.3,72.3 L 49.5,74.4\" style=\"fill:none;fill-rule:evenodd;stroke:#000000;stroke-width:2.0px;stroke-linecap:butt;stroke-linejoin:miter;stroke-opacity:1\"/>\n",
       "<path class=\"bond-0 atom-0 atom-4\" d=\"M 49.5,74.4 L 60.7,76.5\" style=\"fill:none;fill-rule:evenodd;stroke:#0000FF;stroke-width:2.0px;stroke-linecap:butt;stroke-linejoin:miter;stroke-opacity:1\"/>\n",
       "<path class=\"bond-1 atom-0 atom-7\" d=\"M 39.1,68.4 L 16.8,64.2\" style=\"fill:none;fill-rule:evenodd;stroke:#000000;stroke-width:2.0px;stroke-linecap:butt;stroke-linejoin:miter;stroke-opacity:1\"/>\n",
       "<path class=\"bond-2 atom-1 atom-3\" d=\"M 117.5,83.1 L 91.3,78.2\" style=\"fill:none;fill-rule:evenodd;stroke:#000000;stroke-width:2.0px;stroke-linecap:butt;stroke-linejoin:miter;stroke-opacity:1\"/>\n",
       "<path class=\"bond-3 atom-1 atom-5\" d=\"M 115.2,82.7 L 119.0,93.4\" style=\"fill:none;fill-rule:evenodd;stroke:#000000;stroke-width:2.0px;stroke-linecap:butt;stroke-linejoin:miter;stroke-opacity:1\"/>\n",
       "<path class=\"bond-3 atom-1 atom-5\" d=\"M 119.0,93.4 L 122.8,104.1\" style=\"fill:none;fill-rule:evenodd;stroke:#FF0000;stroke-width:2.0px;stroke-linecap:butt;stroke-linejoin:miter;stroke-opacity:1\"/>\n",
       "<path class=\"bond-3 atom-1 atom-5\" d=\"M 119.0,81.3 L 122.8,92.1\" style=\"fill:none;fill-rule:evenodd;stroke:#000000;stroke-width:2.0px;stroke-linecap:butt;stroke-linejoin:miter;stroke-opacity:1\"/>\n",
       "<path class=\"bond-3 atom-1 atom-5\" d=\"M 122.8,92.1 L 126.5,102.8\" style=\"fill:none;fill-rule:evenodd;stroke:#FF0000;stroke-width:2.0px;stroke-linecap:butt;stroke-linejoin:miter;stroke-opacity:1\"/>\n",
       "<path class=\"bond-4 atom-1 atom-6\" d=\"M 117.5,83.1 L 124.1,75.4\" style=\"fill:none;fill-rule:evenodd;stroke:#000000;stroke-width:2.0px;stroke-linecap:butt;stroke-linejoin:miter;stroke-opacity:1\"/>\n",
       "<path class=\"bond-4 atom-1 atom-6\" d=\"M 124.1,75.4 L 130.7,67.7\" style=\"fill:none;fill-rule:evenodd;stroke:#FF0000;stroke-width:2.0px;stroke-linecap:butt;stroke-linejoin:miter;stroke-opacity:1\"/>\n",
       "<path class=\"bond-5 atom-2 atom-6\" d=\"M 160.9,67.8 L 150.0,65.8\" style=\"fill:none;fill-rule:evenodd;stroke:#000000;stroke-width:2.0px;stroke-linecap:butt;stroke-linejoin:miter;stroke-opacity:1\"/>\n",
       "<path class=\"bond-5 atom-2 atom-6\" d=\"M 150.0,65.8 L 139.1,63.7\" style=\"fill:none;fill-rule:evenodd;stroke:#FF0000;stroke-width:2.0px;stroke-linecap:butt;stroke-linejoin:miter;stroke-opacity:1\"/>\n",
       "<path class=\"bond-6 atom-2 atom-8\" d=\"M 160.9,67.8 L 183.2,72.0\" style=\"fill:none;fill-rule:evenodd;stroke:#000000;stroke-width:2.0px;stroke-linecap:butt;stroke-linejoin:miter;stroke-opacity:1\"/>\n",
       "<path class=\"bond-7 atom-2 atom-9\" d=\"M 160.9,67.8 L 164.9,46.3\" style=\"fill:none;fill-rule:evenodd;stroke:#000000;stroke-width:2.0px;stroke-linecap:butt;stroke-linejoin:miter;stroke-opacity:1\"/>\n",
       "<path class=\"bond-8 atom-2 atom-10\" d=\"M 160.9,67.8 L 156.9,89.3\" style=\"fill:none;fill-rule:evenodd;stroke:#000000;stroke-width:2.0px;stroke-linecap:butt;stroke-linejoin:miter;stroke-opacity:1\"/>\n",
       "<path class=\"bond-9 atom-3 atom-4\" d=\"M 91.3,78.2 L 80.1,76.1\" style=\"fill:none;fill-rule:evenodd;stroke:#000000;stroke-width:2.0px;stroke-linecap:butt;stroke-linejoin:miter;stroke-opacity:1\"/>\n",
       "<path class=\"bond-9 atom-3 atom-4\" d=\"M 80.1,76.1 L 68.9,74.0\" style=\"fill:none;fill-rule:evenodd;stroke:#0000FF;stroke-width:2.0px;stroke-linecap:butt;stroke-linejoin:miter;stroke-opacity:1\"/>\n",
       "<path class=\"bond-10 atom-3 atom-11\" d=\"M 91.3,78.2 L 87.3,99.7\" style=\"fill:none;fill-rule:evenodd;stroke:#000000;stroke-width:2.0px;stroke-linecap:butt;stroke-linejoin:miter;stroke-opacity:1\"/>\n",
       "<path class=\"bond-11 atom-3 atom-12\" d=\"M 91.3,78.2 L 95.4,56.7\" style=\"fill:none;fill-rule:evenodd;stroke:#000000;stroke-width:2.0px;stroke-linecap:butt;stroke-linejoin:miter;stroke-opacity:1\"/>\n",
       "<path d=\"M 39.6,68.5 L 39.1,68.4 L 38.0,68.2\" style=\"fill:none;stroke:#000000;stroke-width:2.0px;stroke-linecap:butt;stroke-linejoin:miter;stroke-opacity:1;\"/>\n",
       "<path d=\"M 116.2,82.8 L 117.5,83.1 L 117.8,82.7\" style=\"fill:none;stroke:#000000;stroke-width:2.0px;stroke-linecap:butt;stroke-linejoin:miter;stroke-opacity:1;\"/>\n",
       "<path class=\"atom-4\" d=\"M 63.5 69.5 L 66.0 73.5 Q 66.3 73.9, 66.7 74.6 Q 67.0 75.3, 67.1 75.4 L 67.1 69.5 L 68.1 69.5 L 68.1 77.1 L 67.0 77.1 L 64.4 72.7 Q 64.1 72.2, 63.8 71.6 Q 63.4 71.0, 63.3 70.8 L 63.3 77.1 L 62.4 77.1 L 62.4 69.5 L 63.5 69.5 \" fill=\"#0000FF\"/>\n",
       "<path class=\"atom-4\" d=\"M 69.5 70.9 L 70.8 70.9 L 70.8 69.5 L 71.4 69.5 L 71.4 70.9 L 72.8 70.9 L 72.8 71.4 L 71.4 71.4 L 71.4 72.8 L 70.8 72.8 L 70.8 71.4 L 69.5 71.4 L 69.5 70.9 \" fill=\"#0000FF\"/>\n",
       "<path class=\"atom-5\" d=\"M 122.8 108.2 Q 122.8 106.4, 123.7 105.4 Q 124.6 104.4, 126.3 104.4 Q 128.0 104.4, 128.9 105.4 Q 129.8 106.4, 129.8 108.2 Q 129.8 110.0, 128.9 111.1 Q 128.0 112.1, 126.3 112.1 Q 124.6 112.1, 123.7 111.1 Q 122.8 110.0, 122.8 108.2 M 126.3 111.2 Q 127.5 111.2, 128.1 110.5 Q 128.7 109.7, 128.7 108.2 Q 128.7 106.7, 128.1 106.0 Q 127.5 105.2, 126.3 105.2 Q 125.2 105.2, 124.5 106.0 Q 123.9 106.7, 123.9 108.2 Q 123.9 109.7, 124.5 110.5 Q 125.2 111.2, 126.3 111.2 \" fill=\"#FF0000\"/>\n",
       "<path class=\"atom-6\" d=\"M 131.3 62.9 Q 131.3 61.1, 132.2 60.1 Q 133.1 59.1, 134.8 59.1 Q 136.5 59.1, 137.4 60.1 Q 138.2 61.1, 138.2 62.9 Q 138.2 64.8, 137.3 65.8 Q 136.4 66.8, 134.8 66.8 Q 133.1 66.8, 132.2 65.8 Q 131.3 64.8, 131.3 62.9 M 134.8 66.0 Q 135.9 66.0, 136.6 65.2 Q 137.2 64.4, 137.2 62.9 Q 137.2 61.4, 136.6 60.7 Q 135.9 59.9, 134.8 59.9 Q 133.6 59.9, 133.0 60.7 Q 132.4 61.4, 132.4 62.9 Q 132.4 64.4, 133.0 65.2 Q 133.6 66.0, 134.8 66.0 \" fill=\"#FF0000\"/>\n",
       "<path class=\"atom-7\" d=\"M 10.0 59.7 L 11.0 59.7 L 11.0 62.9 L 14.9 62.9 L 14.9 59.7 L 15.9 59.7 L 15.9 67.3 L 14.9 67.3 L 14.9 63.8 L 11.0 63.8 L 11.0 67.3 L 10.0 67.3 L 10.0 59.7 \" fill=\"#000000\"/>\n",
       "<path class=\"atom-8\" d=\"M 184.1 68.9 L 185.1 68.9 L 185.1 72.1 L 189.0 72.1 L 189.0 68.9 L 190.0 68.9 L 190.0 76.5 L 189.0 76.5 L 189.0 73.0 L 185.1 73.0 L 185.1 76.5 L 184.1 76.5 L 184.1 68.9 \" fill=\"#000000\"/>\n",
       "<path class=\"atom-9\" d=\"M 162.9 37.9 L 163.9 37.9 L 163.9 41.1 L 167.7 41.1 L 167.7 37.9 L 168.8 37.9 L 168.8 45.4 L 167.7 45.4 L 167.7 42.0 L 163.9 42.0 L 163.9 45.4 L 162.9 45.4 L 162.9 37.9 \" fill=\"#000000\"/>\n",
       "<path class=\"atom-10\" d=\"M 153.1 90.2 L 154.1 90.2 L 154.1 93.4 L 157.9 93.4 L 157.9 90.2 L 159.0 90.2 L 159.0 97.7 L 157.9 97.7 L 157.9 94.2 L 154.1 94.2 L 154.1 97.7 L 153.1 97.7 L 153.1 90.2 \" fill=\"#000000\"/>\n",
       "<path class=\"atom-11\" d=\"M 83.5 100.6 L 84.5 100.6 L 84.5 103.8 L 88.4 103.8 L 88.4 100.6 L 89.4 100.6 L 89.4 108.1 L 88.4 108.1 L 88.4 104.6 L 84.5 104.6 L 84.5 108.1 L 83.5 108.1 L 83.5 100.6 \" fill=\"#000000\"/>\n",
       "<path class=\"atom-12\" d=\"M 93.3 48.3 L 94.3 48.3 L 94.3 51.5 L 98.2 51.5 L 98.2 48.3 L 99.2 48.3 L 99.2 55.8 L 98.2 55.8 L 98.2 52.3 L 94.3 52.3 L 94.3 55.8 L 93.3 55.8 L 93.3 48.3 \" fill=\"#000000\"/>\n",
       "<path class=\"bond-0 atom-0 atom-3\" d=\"M 355.4,84.1 L 346.0,82.6\" style=\"fill:none;fill-rule:evenodd;stroke:#000000;stroke-width:2.0px;stroke-linecap:butt;stroke-linejoin:miter;stroke-opacity:1\"/>\n",
       "<path class=\"bond-0 atom-0 atom-3\" d=\"M 346.0,82.6 L 336.6,81.2\" style=\"fill:none;fill-rule:evenodd;stroke:#0000FF;stroke-width:2.0px;stroke-linecap:butt;stroke-linejoin:miter;stroke-opacity:1\"/>\n",
       "<path class=\"bond-0 atom-0 atom-3\" d=\"M 354.8,88.1 L 345.4,86.6\" style=\"fill:none;fill-rule:evenodd;stroke:#000000;stroke-width:2.0px;stroke-linecap:butt;stroke-linejoin:miter;stroke-opacity:1\"/>\n",
       "<path class=\"bond-0 atom-0 atom-3\" d=\"M 345.4,86.6 L 336.0,85.1\" style=\"fill:none;fill-rule:evenodd;stroke:#0000FF;stroke-width:2.0px;stroke-linecap:butt;stroke-linejoin:miter;stroke-opacity:1\"/>\n",
       "<path class=\"bond-0 atom-0 atom-3\" d=\"M 356.0,80.2 L 346.6,78.7\" style=\"fill:none;fill-rule:evenodd;stroke:#000000;stroke-width:2.0px;stroke-linecap:butt;stroke-linejoin:miter;stroke-opacity:1\"/>\n",
       "<path class=\"bond-0 atom-0 atom-3\" d=\"M 346.6,78.7 L 337.3,77.2\" style=\"fill:none;fill-rule:evenodd;stroke:#0000FF;stroke-width:2.0px;stroke-linecap:butt;stroke-linejoin:miter;stroke-opacity:1\"/>\n",
       "<path class=\"bond-1 atom-1 atom-2\" d=\"M 280.4,72.2 L 306.6,76.4\" style=\"fill:none;fill-rule:evenodd;stroke:#000000;stroke-width:2.0px;stroke-linecap:butt;stroke-linejoin:miter;stroke-opacity:1\"/>\n",
       "<path class=\"bond-2 atom-1 atom-4\" d=\"M 282.7,72.6 L 278.6,62.0\" style=\"fill:none;fill-rule:evenodd;stroke:#000000;stroke-width:2.0px;stroke-linecap:butt;stroke-linejoin:miter;stroke-opacity:1\"/>\n",
       "<path class=\"bond-2 atom-1 atom-4\" d=\"M 278.6,62.0 L 274.6,51.5\" style=\"fill:none;fill-rule:evenodd;stroke:#FF0000;stroke-width:2.0px;stroke-linecap:butt;stroke-linejoin:miter;stroke-opacity:1\"/>\n",
       "<path class=\"bond-2 atom-1 atom-4\" d=\"M 278.9,74.0 L 274.9,63.5\" style=\"fill:none;fill-rule:evenodd;stroke:#000000;stroke-width:2.0px;stroke-linecap:butt;stroke-linejoin:miter;stroke-opacity:1\"/>\n",
       "<path class=\"bond-2 atom-1 atom-4\" d=\"M 274.9,63.5 L 270.8,52.9\" style=\"fill:none;fill-rule:evenodd;stroke:#FF0000;stroke-width:2.0px;stroke-linecap:butt;stroke-linejoin:miter;stroke-opacity:1\"/>\n",
       "<path class=\"bond-3 atom-1 atom-5\" d=\"M 280.4,72.2 L 273.9,80.2\" style=\"fill:none;fill-rule:evenodd;stroke:#000000;stroke-width:2.0px;stroke-linecap:butt;stroke-linejoin:miter;stroke-opacity:1\"/>\n",
       "<path class=\"bond-3 atom-1 atom-5\" d=\"M 273.9,80.2 L 267.4,88.2\" style=\"fill:none;fill-rule:evenodd;stroke:#FF0000;stroke-width:2.0px;stroke-linecap:butt;stroke-linejoin:miter;stroke-opacity:1\"/>\n",
       "<path class=\"bond-4 atom-2 atom-3\" d=\"M 306.6,76.4 L 317.9,78.2\" style=\"fill:none;fill-rule:evenodd;stroke:#000000;stroke-width:2.0px;stroke-linecap:butt;stroke-linejoin:miter;stroke-opacity:1\"/>\n",
       "<path class=\"bond-4 atom-2 atom-3\" d=\"M 317.9,78.2 L 329.2,80.0\" style=\"fill:none;fill-rule:evenodd;stroke:#0000FF;stroke-width:2.0px;stroke-linecap:butt;stroke-linejoin:miter;stroke-opacity:1\"/>\n",
       "<path class=\"bond-5 atom-2 atom-6\" d=\"M 306.6,76.4 L 310.1,54.8\" style=\"fill:none;fill-rule:evenodd;stroke:#000000;stroke-width:2.0px;stroke-linecap:butt;stroke-linejoin:miter;stroke-opacity:1\"/>\n",
       "<path class=\"bond-6 atom-2 atom-7\" d=\"M 306.6,76.4 L 303.2,98.0\" style=\"fill:none;fill-rule:evenodd;stroke:#000000;stroke-width:2.0px;stroke-linecap:butt;stroke-linejoin:miter;stroke-opacity:1\"/>\n",
       "<path class=\"bond-7 atom-5 atom-8\" d=\"M 259.3,92.2 L 250.3,90.8\" style=\"fill:none;fill-rule:evenodd;stroke:#FF0000;stroke-width:2.0px;stroke-linecap:butt;stroke-linejoin:miter;stroke-opacity:1\"/>\n",
       "<path class=\"bond-7 atom-5 atom-8\" d=\"M 250.3,90.8 L 241.2,89.3\" style=\"fill:none;fill-rule:evenodd;stroke:#000000;stroke-width:2.0px;stroke-linecap:butt;stroke-linejoin:miter;stroke-opacity:1\"/>\n",
       "<path d=\"M 281.7,72.4 L 280.4,72.2 L 280.1,72.6\" style=\"fill:none;stroke:#000000;stroke-width:2.0px;stroke-linecap:butt;stroke-linejoin:miter;stroke-opacity:1;\"/>\n",
       "<path class=\"atom-0\" d=\"M 356.3 84.8 Q 356.3 82.9, 357.1 81.9 Q 358.0 80.9, 359.7 80.9 Q 361.2 80.9, 362.1 82.0 L 361.4 82.6 Q 360.8 81.8, 359.7 81.8 Q 358.5 81.8, 357.9 82.6 Q 357.3 83.3, 357.3 84.8 Q 357.3 86.3, 358.0 87.0 Q 358.6 87.8, 359.8 87.8 Q 360.6 87.8, 361.6 87.3 L 361.9 88.1 Q 361.5 88.3, 360.9 88.5 Q 360.3 88.6, 359.7 88.6 Q 358.0 88.6, 357.1 87.6 Q 356.3 86.6, 356.3 84.8 \" fill=\"#000000\"/>\n",
       "<path class=\"atom-0\" d=\"M 363.0 82.2 L 365.6 82.2 L 365.6 82.7 L 363.0 82.7 L 363.0 82.2 \" fill=\"#000000\"/>\n",
       "<path class=\"atom-3\" d=\"M 331.2 76.8 L 333.7 80.8 Q 334.0 81.2, 334.3 81.9 Q 334.7 82.6, 334.8 82.6 L 334.8 76.8 L 335.8 76.8 L 335.8 84.3 L 334.7 84.3 L 332.1 80.0 Q 331.8 79.5, 331.4 78.9 Q 331.1 78.3, 331.0 78.1 L 331.0 84.3 L 330.1 84.3 L 330.1 76.8 L 331.2 76.8 \" fill=\"#0000FF\"/>\n",
       "<path class=\"atom-3\" d=\"M 337.2 78.2 L 338.5 78.2 L 338.5 76.8 L 339.1 76.8 L 339.1 78.2 L 340.5 78.2 L 340.5 78.7 L 339.1 78.7 L 339.1 80.1 L 338.5 80.1 L 338.5 78.7 L 337.2 78.7 L 337.2 78.2 \" fill=\"#0000FF\"/>\n",
       "<path class=\"atom-4\" d=\"M 267.4 47.4 Q 267.4 45.6, 268.3 44.6 Q 269.2 43.6, 270.9 43.6 Q 272.5 43.6, 273.4 44.6 Q 274.3 45.6, 274.3 47.4 Q 274.3 49.2, 273.4 50.3 Q 272.5 51.3, 270.9 51.3 Q 269.2 51.3, 268.3 50.3 Q 267.4 49.3, 267.4 47.4 M 270.9 50.5 Q 272.0 50.5, 272.6 49.7 Q 273.3 48.9, 273.3 47.4 Q 273.3 45.9, 272.6 45.2 Q 272.0 44.4, 270.9 44.4 Q 269.7 44.4, 269.1 45.2 Q 268.5 45.9, 268.5 47.4 Q 268.5 48.9, 269.1 49.7 Q 269.7 50.5, 270.9 50.5 \" fill=\"#FF0000\"/>\n",
       "<path class=\"atom-5\" d=\"M 260.2 92.9 Q 260.2 91.1, 261.1 90.1 Q 262.0 89.1, 263.6 89.1 Q 265.3 89.1, 266.2 90.1 Q 267.1 91.1, 267.1 92.9 Q 267.1 94.7, 266.2 95.8 Q 265.3 96.8, 263.6 96.8 Q 262.0 96.8, 261.1 95.8 Q 260.2 94.7, 260.2 92.9 M 263.6 95.9 Q 264.8 95.9, 265.4 95.2 Q 266.0 94.4, 266.0 92.9 Q 266.0 91.4, 265.4 90.7 Q 264.8 89.9, 263.6 89.9 Q 262.5 89.9, 261.9 90.7 Q 261.3 91.4, 261.3 92.9 Q 261.3 94.4, 261.9 95.2 Q 262.5 95.9, 263.6 95.9 \" fill=\"#FF0000\"/>\n",
       "<path class=\"atom-6\" d=\"M 307.9 46.4 L 308.9 46.4 L 308.9 49.6 L 312.7 49.6 L 312.7 46.4 L 313.8 46.4 L 313.8 53.9 L 312.7 53.9 L 312.7 50.4 L 308.9 50.4 L 308.9 53.9 L 307.9 53.9 L 307.9 46.4 \" fill=\"#000000\"/>\n",
       "<path class=\"atom-7\" d=\"M 299.5 98.9 L 300.6 98.9 L 300.6 102.1 L 304.4 102.1 L 304.4 98.9 L 305.4 98.9 L 305.4 106.4 L 304.4 106.4 L 304.4 102.9 L 300.6 102.9 L 300.6 106.4 L 299.5 106.4 L 299.5 98.9 \" fill=\"#000000\"/>\n",
       "<path class=\"atom-8\" d=\"M 234.4 84.9 L 235.5 84.9 L 235.5 88.1 L 239.3 88.1 L 239.3 84.9 L 240.3 84.9 L 240.3 92.5 L 239.3 92.5 L 239.3 89.0 L 235.5 89.0 L 235.5 92.5 L 234.4 92.5 L 234.4 84.9 \" fill=\"#000000\"/>\n",
       "<path class=\"bond-0 atom-0 atom-6\" d=\"M 563.2,89.2 L 554.8,85.5\" style=\"fill:none;fill-rule:evenodd;stroke:#000000;stroke-width:2.0px;stroke-linecap:butt;stroke-linejoin:miter;stroke-opacity:1\"/>\n",
       "<path class=\"bond-0 atom-0 atom-6\" d=\"M 554.8,85.5 L 546.3,81.7\" style=\"fill:none;fill-rule:evenodd;stroke:#0000FF;stroke-width:2.0px;stroke-linecap:butt;stroke-linejoin:miter;stroke-opacity:1\"/>\n",
       "<path class=\"bond-0 atom-0 atom-6\" d=\"M 561.7,92.6 L 553.2,88.9\" style=\"fill:none;fill-rule:evenodd;stroke:#000000;stroke-width:2.0px;stroke-linecap:butt;stroke-linejoin:miter;stroke-opacity:1\"/>\n",
       "<path class=\"bond-0 atom-0 atom-6\" d=\"M 553.2,88.9 L 544.8,85.2\" style=\"fill:none;fill-rule:evenodd;stroke:#0000FF;stroke-width:2.0px;stroke-linecap:butt;stroke-linejoin:miter;stroke-opacity:1\"/>\n",
       "<path class=\"bond-0 atom-0 atom-6\" d=\"M 564.7,85.7 L 556.3,82.0\" style=\"fill:none;fill-rule:evenodd;stroke:#000000;stroke-width:2.0px;stroke-linecap:butt;stroke-linejoin:miter;stroke-opacity:1\"/>\n",
       "<path class=\"bond-0 atom-0 atom-6\" d=\"M 556.3,82.0 L 547.8,78.3\" style=\"fill:none;fill-rule:evenodd;stroke:#0000FF;stroke-width:2.0px;stroke-linecap:butt;stroke-linejoin:miter;stroke-opacity:1\"/>\n",
       "<path class=\"bond-1 atom-1 atom-8\" d=\"M 484.1,96.6 L 479.9,87.7\" style=\"fill:none;fill-rule:evenodd;stroke:#000000;stroke-width:2.0px;stroke-linecap:butt;stroke-linejoin:miter;stroke-opacity:1\"/>\n",
       "<path class=\"bond-1 atom-1 atom-8\" d=\"M 479.9,87.7 L 475.7,78.9\" style=\"fill:none;fill-rule:evenodd;stroke:#CCCC00;stroke-width:2.0px;stroke-linecap:butt;stroke-linejoin:miter;stroke-opacity:1\"/>\n",
       "<path class=\"bond-1 atom-1 atom-8\" d=\"M 488.2,95.9 L 483.5,86.3\" style=\"fill:none;fill-rule:evenodd;stroke:#000000;stroke-width:2.0px;stroke-linecap:butt;stroke-linejoin:miter;stroke-opacity:1\"/>\n",
       "<path class=\"bond-1 atom-1 atom-8\" d=\"M 483.5,86.3 L 478.8,76.6\" style=\"fill:none;fill-rule:evenodd;stroke:#CCCC00;stroke-width:2.0px;stroke-linecap:butt;stroke-linejoin:miter;stroke-opacity:1\"/>\n",
       "<path class=\"bond-2 atom-1 atom-9\" d=\"M 488.2,95.9 L 481.9,116.7\" style=\"fill:none;fill-rule:evenodd;stroke:#000000;stroke-width:2.0px;stroke-linecap:butt;stroke-linejoin:miter;stroke-opacity:1\"/>\n",
       "<path class=\"bond-3 atom-1 atom-10\" d=\"M 488.2,95.9 L 498.6,96.0\" style=\"fill:none;fill-rule:evenodd;stroke:#000000;stroke-width:2.0px;stroke-linecap:butt;stroke-linejoin:miter;stroke-opacity:1\"/>\n",
       "<path class=\"bond-4 atom-2 atom-8\" d=\"M 454.8,56.7 L 462.0,63.4\" style=\"fill:none;fill-rule:evenodd;stroke:#000000;stroke-width:2.0px;stroke-linecap:butt;stroke-linejoin:miter;stroke-opacity:1\"/>\n",
       "<path class=\"bond-4 atom-2 atom-8\" d=\"M 462.0,63.4 L 469.2,70.0\" style=\"fill:none;fill-rule:evenodd;stroke:#CCCC00;stroke-width:2.0px;stroke-linecap:butt;stroke-linejoin:miter;stroke-opacity:1\"/>\n",
       "<path class=\"bond-4 atom-2 atom-8\" d=\"M 456.8,53.0 L 464.5,60.4\" style=\"fill:none;fill-rule:evenodd;stroke:#000000;stroke-width:2.0px;stroke-linecap:butt;stroke-linejoin:miter;stroke-opacity:1\"/>\n",
       "<path class=\"bond-4 atom-2 atom-8\" d=\"M 464.5,60.4 L 472.3,67.8\" style=\"fill:none;fill-rule:evenodd;stroke:#CCCC00;stroke-width:2.0px;stroke-linecap:butt;stroke-linejoin:miter;stroke-opacity:1\"/>\n",
       "<path class=\"bond-5 atom-2 atom-11\" d=\"M 456.8,53.0 L 434.0,52.7\" style=\"fill:none;fill-rule:evenodd;stroke:#000000;stroke-width:2.0px;stroke-linecap:butt;stroke-linejoin:miter;stroke-opacity:1\"/>\n",
       "<path class=\"bond-6 atom-2 atom-12\" d=\"M 456.8,53.0 L 465.4,33.3\" style=\"fill:none;fill-rule:evenodd;stroke:#000000;stroke-width:2.0px;stroke-linecap:butt;stroke-linejoin:miter;stroke-opacity:1\"/>\n",
       "<path class=\"bond-7 atom-3 atom-5\" d=\"M 493.9,58.7 L 518.3,69.4\" style=\"fill:none;fill-rule:evenodd;stroke:#000000;stroke-width:2.0px;stroke-linecap:butt;stroke-linejoin:miter;stroke-opacity:1\"/>\n",
       "<path class=\"bond-8 atom-3 atom-7\" d=\"M 495.9,59.6 L 494.7,48.2\" style=\"fill:none;fill-rule:evenodd;stroke:#000000;stroke-width:2.0px;stroke-linecap:butt;stroke-linejoin:miter;stroke-opacity:1\"/>\n",
       "<path class=\"bond-8 atom-3 atom-7\" d=\"M 494.7,48.2 L 493.4,36.8\" style=\"fill:none;fill-rule:evenodd;stroke:#FF0000;stroke-width:2.0px;stroke-linecap:butt;stroke-linejoin:miter;stroke-opacity:1\"/>\n",
       "<path class=\"bond-8 atom-3 atom-7\" d=\"M 492.2,60.0 L 490.9,48.6\" style=\"fill:none;fill-rule:evenodd;stroke:#000000;stroke-width:2.0px;stroke-linecap:butt;stroke-linejoin:miter;stroke-opacity:1\"/>\n",
       "<path class=\"bond-8 atom-3 atom-7\" d=\"M 490.9,48.6 L 489.7,37.2\" style=\"fill:none;fill-rule:evenodd;stroke:#FF0000;stroke-width:2.0px;stroke-linecap:butt;stroke-linejoin:miter;stroke-opacity:1\"/>\n",
       "<path class=\"bond-9 atom-3 atom-8\" d=\"M 493.9,58.7 L 484.8,65.4\" style=\"fill:none;fill-rule:evenodd;stroke:#000000;stroke-width:2.0px;stroke-linecap:butt;stroke-linejoin:miter;stroke-opacity:1\"/>\n",
       "<path class=\"bond-9 atom-3 atom-8\" d=\"M 484.8,65.4 L 475.7,72.1\" style=\"fill:none;fill-rule:evenodd;stroke:#CCCC00;stroke-width:2.0px;stroke-linecap:butt;stroke-linejoin:miter;stroke-opacity:1\"/>\n",
       "<path class=\"bond-10 atom-4 atom-8\" d=\"M 451.1,90.2 L 460.1,83.5\" style=\"fill:none;fill-rule:evenodd;stroke:#000000;stroke-width:2.0px;stroke-linecap:butt;stroke-linejoin:miter;stroke-opacity:1\"/>\n",
       "<path class=\"bond-10 atom-4 atom-8\" d=\"M 460.1,83.5 L 469.2,76.8\" style=\"fill:none;fill-rule:evenodd;stroke:#CCCC00;stroke-width:2.0px;stroke-linecap:butt;stroke-linejoin:miter;stroke-opacity:1\"/>\n",
       "<path class=\"bond-11 atom-4 atom-13\" d=\"M 451.1,90.2 L 433.4,103.1\" style=\"fill:none;fill-rule:evenodd;stroke:#000000;stroke-width:2.0px;stroke-linecap:butt;stroke-linejoin:miter;stroke-opacity:1\"/>\n",
       "<path class=\"bond-12 atom-4 atom-14\" d=\"M 451.1,90.2 L 461.5,108.8\" style=\"fill:none;fill-rule:evenodd;stroke:#000000;stroke-width:2.0px;stroke-linecap:butt;stroke-linejoin:miter;stroke-opacity:1\"/>\n",
       "<path class=\"bond-13 atom-4 atom-15\" d=\"M 451.1,90.2 L 436.6,74.8\" style=\"fill:none;fill-rule:evenodd;stroke:#000000;stroke-width:2.0px;stroke-linecap:butt;stroke-linejoin:miter;stroke-opacity:1\"/>\n",
       "<path class=\"bond-14 atom-5 atom-6\" d=\"M 518.3,69.4 L 528.6,74.0\" style=\"fill:none;fill-rule:evenodd;stroke:#000000;stroke-width:2.0px;stroke-linecap:butt;stroke-linejoin:miter;stroke-opacity:1\"/>\n",
       "<path class=\"bond-14 atom-5 atom-6\" d=\"M 528.6,74.0 L 538.9,78.5\" style=\"fill:none;fill-rule:evenodd;stroke:#0000FF;stroke-width:2.0px;stroke-linecap:butt;stroke-linejoin:miter;stroke-opacity:1\"/>\n",
       "<path class=\"bond-15 atom-5 atom-16\" d=\"M 518.3,69.4 L 527.0,49.7\" style=\"fill:none;fill-rule:evenodd;stroke:#000000;stroke-width:2.0px;stroke-linecap:butt;stroke-linejoin:miter;stroke-opacity:1\"/>\n",
       "<path class=\"bond-16 atom-5 atom-17\" d=\"M 518.3,69.4 L 515.6,78.4\" style=\"fill:none;fill-rule:evenodd;stroke:#000000;stroke-width:2.0px;stroke-linecap:butt;stroke-linejoin:miter;stroke-opacity:1\"/>\n",
       "<path d=\"M 495.1,59.2 L 493.9,58.7 L 493.5,59.0\" style=\"fill:none;stroke:#000000;stroke-width:2.0px;stroke-linecap:butt;stroke-linejoin:miter;stroke-opacity:1;\"/>\n",
       "<path class=\"atom-0\" d=\"M 564.0 90.9 Q 564.0 89.0, 564.9 88.0 Q 565.8 87.0, 567.5 87.0 Q 569.0 87.0, 569.8 88.1 L 569.1 88.7 Q 568.5 87.9, 567.5 87.9 Q 566.3 87.9, 565.7 88.7 Q 565.1 89.4, 565.1 90.9 Q 565.1 92.3, 565.7 93.1 Q 566.4 93.9, 567.6 93.9 Q 568.4 93.9, 569.4 93.4 L 569.7 94.2 Q 569.3 94.4, 568.7 94.6 Q 568.1 94.7, 567.4 94.7 Q 565.8 94.7, 564.9 93.7 Q 564.0 92.7, 564.0 90.9 \" fill=\"#000000\"/>\n",
       "<path class=\"atom-0\" d=\"M 570.8 88.3 L 573.3 88.3 L 573.3 88.8 L 570.8 88.8 L 570.8 88.3 \" fill=\"#000000\"/>\n",
       "<path class=\"atom-6\" d=\"M 540.9 76.4 L 543.4 80.3 Q 543.7 80.7, 544.0 81.4 Q 544.4 82.2, 544.5 82.2 L 544.5 76.4 L 545.5 76.4 L 545.5 83.9 L 544.4 83.9 L 541.8 79.5 Q 541.5 79.0, 541.1 78.4 Q 540.8 77.8, 540.7 77.7 L 540.7 83.9 L 539.8 83.9 L 539.8 76.4 L 540.9 76.4 \" fill=\"#0000FF\"/>\n",
       "<path class=\"atom-6\" d=\"M 546.9 77.7 L 548.2 77.7 L 548.2 76.3 L 548.8 76.3 L 548.8 77.7 L 550.2 77.7 L 550.2 78.2 L 548.8 78.2 L 548.8 79.6 L 548.2 79.6 L 548.2 78.2 L 546.9 78.2 L 546.9 77.7 \" fill=\"#0000FF\"/>\n",
       "<path class=\"atom-7\" d=\"M 487.6 32.3 Q 487.6 30.5, 488.5 29.5 Q 489.4 28.5, 491.0 28.5 Q 492.7 28.5, 493.6 29.5 Q 494.5 30.5, 494.5 32.3 Q 494.5 34.1, 493.6 35.2 Q 492.7 36.2, 491.0 36.2 Q 489.4 36.2, 488.5 35.2 Q 487.6 34.1, 487.6 32.3 M 491.0 35.4 Q 492.2 35.4, 492.8 34.6 Q 493.4 33.8, 493.4 32.3 Q 493.4 30.8, 492.8 30.1 Q 492.2 29.3, 491.0 29.3 Q 489.9 29.3, 489.3 30.1 Q 488.6 30.8, 488.6 32.3 Q 488.6 33.8, 489.3 34.6 Q 489.9 35.4, 491.0 35.4 \" fill=\"#FF0000\"/>\n",
       "<path class=\"atom-8\" d=\"M 470.4 77.0 Q 470.4 77.1, 470.8 77.2 Q 471.1 77.4, 471.5 77.4 Q 471.9 77.5, 472.3 77.5 Q 473.0 77.5, 473.4 77.2 Q 473.9 76.8, 473.9 76.2 Q 473.9 75.8, 473.6 75.6 Q 473.4 75.3, 473.1 75.2 Q 472.8 75.0, 472.3 74.9 Q 471.6 74.7, 471.2 74.5 Q 470.8 74.3, 470.5 73.9 Q 470.2 73.5, 470.2 72.8 Q 470.2 71.9, 470.9 71.3 Q 471.5 70.7, 472.8 70.7 Q 473.7 70.7, 474.7 71.1 L 474.4 71.9 Q 473.5 71.5, 472.8 71.5 Q 472.1 71.5, 471.7 71.9 Q 471.3 72.2, 471.3 72.7 Q 471.3 73.1, 471.5 73.3 Q 471.7 73.6, 472.0 73.7 Q 472.3 73.8, 472.8 74.0 Q 473.5 74.2, 473.9 74.4 Q 474.3 74.6, 474.6 75.1 Q 474.9 75.5, 474.9 76.2 Q 474.9 77.3, 474.2 77.8 Q 473.5 78.4, 472.4 78.4 Q 471.7 78.4, 471.2 78.2 Q 470.7 78.1, 470.1 77.9 L 470.4 77.0 \" fill=\"#CCCC00\"/>\n",
       "<path class=\"atom-9\" d=\"M 477.6 117.6 L 478.6 117.6 L 478.6 120.8 L 482.5 120.8 L 482.5 117.6 L 483.5 117.6 L 483.5 125.1 L 482.5 125.1 L 482.5 121.6 L 478.6 121.6 L 478.6 125.1 L 477.6 125.1 L 477.6 117.6 \" fill=\"#000000\"/>\n",
       "<path class=\"atom-10\" d=\"M 499.4 92.3 L 500.4 92.3 L 500.4 95.5 L 504.3 95.5 L 504.3 92.3 L 505.3 92.3 L 505.3 99.8 L 504.3 99.8 L 504.3 96.3 L 500.4 96.3 L 500.4 99.8 L 499.4 99.8 L 499.4 92.3 \" fill=\"#000000\"/>\n",
       "<path class=\"atom-11\" d=\"M 427.2 48.9 L 428.3 48.9 L 428.3 52.1 L 432.1 52.1 L 432.1 48.9 L 433.1 48.9 L 433.1 56.4 L 432.1 56.4 L 432.1 52.9 L 428.3 52.9 L 428.3 56.4 L 427.2 56.4 L 427.2 48.9 \" fill=\"#000000\"/>\n",
       "<path class=\"atom-12\" d=\"M 464.5 24.9 L 465.5 24.9 L 465.5 28.1 L 469.4 28.1 L 469.4 24.9 L 470.4 24.9 L 470.4 32.4 L 469.4 32.4 L 469.4 28.9 L 465.5 28.9 L 465.5 32.4 L 464.5 32.4 L 464.5 24.9 \" fill=\"#000000\"/>\n",
       "<path class=\"atom-13\" d=\"M 426.7 102.1 L 427.7 102.1 L 427.7 105.3 L 431.5 105.3 L 431.5 102.1 L 432.6 102.1 L 432.6 109.7 L 431.5 109.7 L 431.5 106.2 L 427.7 106.2 L 427.7 109.7 L 426.7 109.7 L 426.7 102.1 \" fill=\"#000000\"/>\n",
       "<path class=\"atom-14\" d=\"M 461.1 109.6 L 462.1 109.6 L 462.1 112.8 L 466.0 112.8 L 466.0 109.6 L 467.0 109.6 L 467.0 117.1 L 466.0 117.1 L 466.0 113.6 L 462.1 113.6 L 462.1 117.1 L 461.1 117.1 L 461.1 109.6 \" fill=\"#000000\"/>\n",
       "<path class=\"atom-15\" d=\"M 429.9 67.0 L 430.9 67.0 L 430.9 70.2 L 434.8 70.2 L 434.8 67.0 L 435.8 67.0 L 435.8 74.6 L 434.8 74.6 L 434.8 71.1 L 430.9 71.1 L 430.9 74.6 L 429.9 74.6 L 429.9 67.0 \" fill=\"#000000\"/>\n",
       "<path class=\"atom-16\" d=\"M 526.0 41.3 L 527.0 41.3 L 527.0 44.5 L 530.9 44.5 L 530.9 41.3 L 531.9 41.3 L 531.9 48.8 L 530.9 48.8 L 530.9 45.4 L 527.0 45.4 L 527.0 48.8 L 526.0 48.8 L 526.0 41.3 \" fill=\"#000000\"/>\n",
       "<path class=\"atom-17\" d=\"M 511.3 79.2 L 512.3 79.2 L 512.3 82.4 L 516.1 82.4 L 516.1 79.2 L 517.1 79.2 L 517.1 86.7 L 516.1 86.7 L 516.1 83.2 L 512.3 83.2 L 512.3 86.7 L 511.3 86.7 L 511.3 79.2 \" fill=\"#000000\"/>\n",
       "<path class=\"bond-0 atom-0 atom-4\" d=\"M 768.2,87.7 L 759.1,85.3\" style=\"fill:none;fill-rule:evenodd;stroke:#000000;stroke-width:2.0px;stroke-linecap:butt;stroke-linejoin:miter;stroke-opacity:1\"/>\n",
       "<path class=\"bond-0 atom-0 atom-4\" d=\"M 759.1,85.3 L 749.9,83.0\" style=\"fill:none;fill-rule:evenodd;stroke:#0000FF;stroke-width:2.0px;stroke-linecap:butt;stroke-linejoin:miter;stroke-opacity:1\"/>\n",
       "<path class=\"bond-0 atom-0 atom-4\" d=\"M 767.2,91.5 L 758.1,89.2\" style=\"fill:none;fill-rule:evenodd;stroke:#000000;stroke-width:2.0px;stroke-linecap:butt;stroke-linejoin:miter;stroke-opacity:1\"/>\n",
       "<path class=\"bond-0 atom-0 atom-4\" d=\"M 758.1,89.2 L 748.9,86.8\" style=\"fill:none;fill-rule:evenodd;stroke:#0000FF;stroke-width:2.0px;stroke-linecap:butt;stroke-linejoin:miter;stroke-opacity:1\"/>\n",
       "<path class=\"bond-0 atom-0 atom-4\" d=\"M 769.2,83.8 L 760.1,81.5\" style=\"fill:none;fill-rule:evenodd;stroke:#000000;stroke-width:2.0px;stroke-linecap:butt;stroke-linejoin:miter;stroke-opacity:1\"/>\n",
       "<path class=\"bond-0 atom-0 atom-4\" d=\"M 760.1,81.5 L 750.9,79.1\" style=\"fill:none;fill-rule:evenodd;stroke:#0000FF;stroke-width:2.0px;stroke-linecap:butt;stroke-linejoin:miter;stroke-opacity:1\"/>\n",
       "<path class=\"bond-1 atom-1 atom-3\" d=\"M 694.7,68.8 L 720.5,75.4\" style=\"fill:none;fill-rule:evenodd;stroke:#000000;stroke-width:2.0px;stroke-linecap:butt;stroke-linejoin:miter;stroke-opacity:1\"/>\n",
       "<path class=\"bond-2 atom-1 atom-5\" d=\"M 696.9,69.3 L 693.9,58.4\" style=\"fill:none;fill-rule:evenodd;stroke:#000000;stroke-width:2.0px;stroke-linecap:butt;stroke-linejoin:miter;stroke-opacity:1\"/>\n",
       "<path class=\"bond-2 atom-1 atom-5\" d=\"M 693.9,58.4 L 690.8,47.4\" style=\"fill:none;fill-rule:evenodd;stroke:#FF0000;stroke-width:2.0px;stroke-linecap:butt;stroke-linejoin:miter;stroke-opacity:1\"/>\n",
       "<path class=\"bond-2 atom-1 atom-5\" d=\"M 693.1,70.4 L 690.0,59.5\" style=\"fill:none;fill-rule:evenodd;stroke:#000000;stroke-width:2.0px;stroke-linecap:butt;stroke-linejoin:miter;stroke-opacity:1\"/>\n",
       "<path class=\"bond-2 atom-1 atom-5\" d=\"M 690.0,59.5 L 687.0,48.5\" style=\"fill:none;fill-rule:evenodd;stroke:#FF0000;stroke-width:2.0px;stroke-linecap:butt;stroke-linejoin:miter;stroke-opacity:1\"/>\n",
       "<path class=\"bond-3 atom-1 atom-6\" d=\"M 694.7,68.8 L 687.6,76.1\" style=\"fill:none;fill-rule:evenodd;stroke:#000000;stroke-width:2.0px;stroke-linecap:butt;stroke-linejoin:miter;stroke-opacity:1\"/>\n",
       "<path class=\"bond-3 atom-1 atom-6\" d=\"M 687.6,76.1 L 680.4,83.3\" style=\"fill:none;fill-rule:evenodd;stroke:#FF0000;stroke-width:2.0px;stroke-linecap:butt;stroke-linejoin:miter;stroke-opacity:1\"/>\n",
       "<path class=\"bond-4 atom-2 atom-6\" d=\"M 650.3,81.1 L 661.1,83.9\" style=\"fill:none;fill-rule:evenodd;stroke:#000000;stroke-width:2.0px;stroke-linecap:butt;stroke-linejoin:miter;stroke-opacity:1\"/>\n",
       "<path class=\"bond-4 atom-2 atom-6\" d=\"M 661.1,83.9 L 671.8,86.6\" style=\"fill:none;fill-rule:evenodd;stroke:#FF0000;stroke-width:2.0px;stroke-linecap:butt;stroke-linejoin:miter;stroke-opacity:1\"/>\n",
       "<path class=\"bond-5 atom-2 atom-7\" d=\"M 650.3,81.1 L 628.4,75.5\" style=\"fill:none;fill-rule:evenodd;stroke:#000000;stroke-width:2.0px;stroke-linecap:butt;stroke-linejoin:miter;stroke-opacity:1\"/>\n",
       "<path class=\"bond-6 atom-2 atom-8\" d=\"M 650.3,81.1 L 644.9,102.2\" style=\"fill:none;fill-rule:evenodd;stroke:#000000;stroke-width:2.0px;stroke-linecap:butt;stroke-linejoin:miter;stroke-opacity:1\"/>\n",
       "<path class=\"bond-7 atom-2 atom-9\" d=\"M 650.3,81.1 L 655.8,60.0\" style=\"fill:none;fill-rule:evenodd;stroke:#000000;stroke-width:2.0px;stroke-linecap:butt;stroke-linejoin:miter;stroke-opacity:1\"/>\n",
       "<path class=\"bond-8 atom-3 atom-4\" d=\"M 720.5,75.4 L 731.5,78.2\" style=\"fill:none;fill-rule:evenodd;stroke:#000000;stroke-width:2.0px;stroke-linecap:butt;stroke-linejoin:miter;stroke-opacity:1\"/>\n",
       "<path class=\"bond-8 atom-3 atom-4\" d=\"M 731.5,78.2 L 742.5,81.1\" style=\"fill:none;fill-rule:evenodd;stroke:#0000FF;stroke-width:2.0px;stroke-linecap:butt;stroke-linejoin:miter;stroke-opacity:1\"/>\n",
       "<path class=\"bond-9 atom-3 atom-10\" d=\"M 720.5,75.4 L 725.9,54.3\" style=\"fill:none;fill-rule:evenodd;stroke:#000000;stroke-width:2.0px;stroke-linecap:butt;stroke-linejoin:miter;stroke-opacity:1\"/>\n",
       "<path class=\"bond-10 atom-3 atom-11\" d=\"M 720.5,75.4 L 715.0,96.5\" style=\"fill:none;fill-rule:evenodd;stroke:#000000;stroke-width:2.0px;stroke-linecap:butt;stroke-linejoin:miter;stroke-opacity:1\"/>\n",
       "<path d=\"M 696.0,69.1 L 694.7,68.8 L 694.4,69.1\" style=\"fill:none;stroke:#000000;stroke-width:2.0px;stroke-linecap:butt;stroke-linejoin:miter;stroke-opacity:1;\"/>\n",
       "<path class=\"atom-0\" d=\"M 769.1 88.7 Q 769.1 86.8, 769.9 85.8 Q 770.8 84.8, 772.5 84.8 Q 774.0 84.8, 774.9 85.9 L 774.2 86.5 Q 773.6 85.7, 772.5 85.7 Q 771.3 85.7, 770.7 86.5 Q 770.1 87.2, 770.1 88.7 Q 770.1 90.2, 770.8 90.9 Q 771.4 91.7, 772.6 91.7 Q 773.4 91.7, 774.4 91.2 L 774.7 92.0 Q 774.3 92.3, 773.7 92.4 Q 773.1 92.6, 772.4 92.6 Q 770.8 92.6, 769.9 91.6 Q 769.1 90.6, 769.1 88.7 \" fill=\"#000000\"/>\n",
       "<path class=\"atom-0\" d=\"M 775.8 86.1 L 778.3 86.1 L 778.3 86.6 L 775.8 86.6 L 775.8 86.1 \" fill=\"#000000\"/>\n",
       "<path class=\"atom-4\" d=\"M 744.5 78.3 L 747.0 82.2 Q 747.3 82.6, 747.6 83.4 Q 748.0 84.1, 748.1 84.1 L 748.1 78.3 L 749.1 78.3 L 749.1 85.8 L 748.0 85.8 L 745.4 81.4 Q 745.1 80.9, 744.7 80.3 Q 744.4 79.7, 744.3 79.6 L 744.3 85.8 L 743.4 85.8 L 743.4 78.3 L 744.5 78.3 \" fill=\"#0000FF\"/>\n",
       "<path class=\"atom-4\" d=\"M 750.5 79.6 L 751.8 79.6 L 751.8 78.2 L 752.4 78.2 L 752.4 79.6 L 753.8 79.6 L 753.8 80.1 L 752.4 80.1 L 752.4 81.5 L 751.8 81.5 L 751.8 80.1 L 750.5 80.1 L 750.5 79.6 \" fill=\"#0000FF\"/>\n",
       "<path class=\"atom-5\" d=\"M 684.1 43.2 Q 684.1 41.4, 685.0 40.4 Q 685.9 39.4, 687.6 39.4 Q 689.2 39.4, 690.1 40.4 Q 691.0 41.4, 691.0 43.2 Q 691.0 45.0, 690.1 46.1 Q 689.2 47.1, 687.6 47.1 Q 685.9 47.1, 685.0 46.1 Q 684.1 45.0, 684.1 43.2 M 687.6 46.2 Q 688.7 46.2, 689.3 45.5 Q 690.0 44.7, 690.0 43.2 Q 690.0 41.7, 689.3 41.0 Q 688.7 40.2, 687.6 40.2 Q 686.4 40.2, 685.8 40.9 Q 685.2 41.7, 685.2 43.2 Q 685.2 44.7, 685.8 45.5 Q 686.4 46.2, 687.6 46.2 \" fill=\"#FF0000\"/>\n",
       "<path class=\"atom-6\" d=\"M 672.6 87.8 Q 672.6 86.0, 673.5 85.0 Q 674.4 84.0, 676.1 84.0 Q 677.8 84.0, 678.7 85.0 Q 679.6 86.0, 679.6 87.8 Q 679.6 89.6, 678.6 90.7 Q 677.7 91.7, 676.1 91.7 Q 674.4 91.7, 673.5 90.7 Q 672.6 89.6, 672.6 87.8 M 676.1 90.8 Q 677.2 90.8, 677.9 90.1 Q 678.5 89.3, 678.5 87.8 Q 678.5 86.3, 677.9 85.6 Q 677.2 84.8, 676.1 84.8 Q 674.9 84.8, 674.3 85.5 Q 673.7 86.3, 673.7 87.8 Q 673.7 89.3, 674.3 90.1 Q 674.9 90.8, 676.1 90.8 \" fill=\"#FF0000\"/>\n",
       "<path class=\"atom-7\" d=\"M 621.7 70.7 L 622.7 70.7 L 622.7 73.9 L 626.5 73.9 L 626.5 70.7 L 627.5 70.7 L 627.5 78.3 L 626.5 78.3 L 626.5 74.8 L 622.7 74.8 L 622.7 78.3 L 621.7 78.3 L 621.7 70.7 \" fill=\"#000000\"/>\n",
       "<path class=\"atom-8\" d=\"M 640.8 103.1 L 641.8 103.1 L 641.8 106.3 L 645.6 106.3 L 645.6 103.1 L 646.7 103.1 L 646.7 110.6 L 645.6 110.6 L 645.6 107.2 L 641.8 107.2 L 641.8 110.6 L 640.8 110.6 L 640.8 103.1 \" fill=\"#000000\"/>\n",
       "<path class=\"atom-9\" d=\"M 654.0 51.6 L 655.0 51.6 L 655.0 54.8 L 658.9 54.8 L 658.9 51.6 L 659.9 51.6 L 659.9 59.1 L 658.9 59.1 L 658.9 55.7 L 655.0 55.7 L 655.0 59.1 L 654.0 59.1 L 654.0 51.6 \" fill=\"#000000\"/>\n",
       "<path class=\"atom-10\" d=\"M 724.1 45.9 L 725.2 45.9 L 725.2 49.1 L 729.0 49.1 L 729.0 45.9 L 730.0 45.9 L 730.0 53.4 L 729.0 53.4 L 729.0 49.9 L 725.2 49.9 L 725.2 53.4 L 724.1 53.4 L 724.1 45.9 \" fill=\"#000000\"/>\n",
       "<path class=\"atom-11\" d=\"M 710.9 97.4 L 711.9 97.4 L 711.9 100.6 L 715.8 100.6 L 715.8 97.4 L 716.8 97.4 L 716.8 104.9 L 715.8 104.9 L 715.8 101.4 L 711.9 101.4 L 711.9 104.9 L 710.9 104.9 L 710.9 97.4 \" fill=\"#000000\"/>\n",
       "</svg>"
      ],
      "text/plain": [
       "<IPython.core.display.SVG object>"
      ]
     },
     "execution_count": 61,
     "metadata": {},
     "output_type": "execute_result"
    }
   ],
   "source": [
    "draw_df(df)"
   ]
  },
  {
   "cell_type": "code",
   "execution_count": null,
   "id": "0c7e5ec3-8084-4e62-bded-a41fd10383c3",
   "metadata": {},
   "outputs": [],
   "source": []
  },
  {
   "cell_type": "code",
   "execution_count": null,
   "id": "6c7410b9-5912-496d-8329-10da6b6bb276",
   "metadata": {},
   "outputs": [],
   "source": []
  }
 ],
 "metadata": {
  "kernelspec": {
   "display_name": "Python (openff-nagl-test)",
   "language": "python",
   "name": "openff-nagl-test"
  },
  "language_info": {
   "codemirror_mode": {
    "name": "ipython",
    "version": 3
   },
   "file_extension": ".py",
   "mimetype": "text/x-python",
   "name": "python",
   "nbconvert_exporter": "python",
   "pygments_lexer": "ipython3",
   "version": "3.10.13"
  }
 },
 "nbformat": 4,
 "nbformat_minor": 5
}
